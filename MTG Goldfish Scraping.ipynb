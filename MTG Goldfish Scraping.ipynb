{
 "cells": [
  {
   "cell_type": "markdown",
   "metadata": {},
   "source": [
    "# MTGGoldfish Scraping"
   ]
  },
  {
   "cell_type": "code",
   "execution_count": 1,
   "metadata": {},
   "outputs": [],
   "source": [
    "#Basic Python\n",
    "import matplotlib.pyplot as plt\n",
    "import pandas as pd\n",
    "import numpy as np\n",
    "import string\n",
    "import pickle\n",
    "import requests\n",
    "\n",
    "#API\n",
    "import requests\n",
    "from bs4 import BeautifulSoup"
   ]
  },
  {
   "cell_type": "code",
   "execution_count": 30,
   "metadata": {},
   "outputs": [],
   "source": [
    "def pricify(card, expansion, foiling):\n",
    "    '''Returns price history for a card name, expansion, and foiling'''\n",
    "    \n",
    "    if foiling.lower() == 'foil' or foiling.lower() == 'yes':\n",
    "        foil_option = ':Foil'\n",
    "        foil_label = 'Foil'\n",
    "    else:\n",
    "        foil_option = ''\n",
    "        foil_label = 'Non Foil'\n",
    "    #URL to BS4 to string\n",
    "    url = 'https://www.mtggoldfish.com/price/{}/{}#paper'.format(expansion.replace(' ', '+')+foil_option, card.replace(' ', '+'))\n",
    "    response = requests.get(url)\n",
    "    soup = BeautifulSoup(response.content, 'html.parser')\n",
    "    script = soup.find_all(\"script\")\n",
    "    \n",
    "    #list of strings of items\n",
    "    result = []\n",
    "    [result.append(str(s)) for s in script]\n",
    "    #return result\n",
    "    \n",
    "    #which compartment index is the pricing data\n",
    "    index = [idx for idx, s in enumerate(result) if 'var d =' in s][0]\n",
    "    data = result[index]\n",
    "    #where exactly is the date and price data\n",
    "    price_index = [data.find('var d ='), data.find('g = new Dygraph')]\n",
    "    \n",
    "    #cleaning up price and date data\n",
    "    messy = data[data.find('var d ='): data.find('g = new Dygraph')]\n",
    "    cleaned = messy.replace('var d = \"Date,{}\";\\n  '.format(card), '').replace('d += \"\\\\n', '').replace('\";\\n  ', '|').replace('\";\\n\\n', '')\n",
    "\n",
    "    cleaned_list = cleaned.split(\"|\")\n",
    "    price_history = pd.DataFrame([i.split(',') for i in cleaned_list], columns = ['date', 'price'])\n",
    "    price_history['date'] = pd.to_datetime(price_history['date'], format = '%Y-%m-%d')\n",
    "    price_history['price'] = price_history['price'].astype(float)\n",
    "    price_history['expansion'] = expansion\n",
    "    price_history['foil'] = foil_label\n",
    "    \n",
    "    return price_history"
   ]
  },
  {
   "cell_type": "code",
   "execution_count": 34,
   "metadata": {
    "scrolled": false
   },
   "outputs": [
    {
     "data": {
      "text/html": [
       "<div>\n",
       "<style scoped>\n",
       "    .dataframe tbody tr th:only-of-type {\n",
       "        vertical-align: middle;\n",
       "    }\n",
       "\n",
       "    .dataframe tbody tr th {\n",
       "        vertical-align: top;\n",
       "    }\n",
       "\n",
       "    .dataframe thead th {\n",
       "        text-align: right;\n",
       "    }\n",
       "</style>\n",
       "<table border=\"1\" class=\"dataframe\">\n",
       "  <thead>\n",
       "    <tr style=\"text-align: right;\">\n",
       "      <th></th>\n",
       "      <th>date</th>\n",
       "      <th>price</th>\n",
       "      <th>expansion</th>\n",
       "      <th>foil</th>\n",
       "    </tr>\n",
       "  </thead>\n",
       "  <tbody>\n",
       "    <tr>\n",
       "      <th>0</th>\n",
       "      <td>2014-03-25</td>\n",
       "      <td>20.66</td>\n",
       "      <td>Prophecy</td>\n",
       "      <td>Foil</td>\n",
       "    </tr>\n",
       "    <tr>\n",
       "      <th>1</th>\n",
       "      <td>2014-03-26</td>\n",
       "      <td>20.64</td>\n",
       "      <td>Prophecy</td>\n",
       "      <td>Foil</td>\n",
       "    </tr>\n",
       "    <tr>\n",
       "      <th>2</th>\n",
       "      <td>2014-03-27</td>\n",
       "      <td>20.64</td>\n",
       "      <td>Prophecy</td>\n",
       "      <td>Foil</td>\n",
       "    </tr>\n",
       "    <tr>\n",
       "      <th>3</th>\n",
       "      <td>2014-03-28</td>\n",
       "      <td>20.64</td>\n",
       "      <td>Prophecy</td>\n",
       "      <td>Foil</td>\n",
       "    </tr>\n",
       "    <tr>\n",
       "      <th>4</th>\n",
       "      <td>2014-03-29</td>\n",
       "      <td>20.64</td>\n",
       "      <td>Prophecy</td>\n",
       "      <td>Foil</td>\n",
       "    </tr>\n",
       "    <tr>\n",
       "      <th>...</th>\n",
       "      <td>...</td>\n",
       "      <td>...</td>\n",
       "      <td>...</td>\n",
       "      <td>...</td>\n",
       "    </tr>\n",
       "    <tr>\n",
       "      <th>2552</th>\n",
       "      <td>2021-05-26</td>\n",
       "      <td>299.99</td>\n",
       "      <td>Prophecy</td>\n",
       "      <td>Foil</td>\n",
       "    </tr>\n",
       "    <tr>\n",
       "      <th>2553</th>\n",
       "      <td>2021-05-27</td>\n",
       "      <td>350.00</td>\n",
       "      <td>Prophecy</td>\n",
       "      <td>Foil</td>\n",
       "    </tr>\n",
       "    <tr>\n",
       "      <th>2554</th>\n",
       "      <td>2021-05-28</td>\n",
       "      <td>400.00</td>\n",
       "      <td>Prophecy</td>\n",
       "      <td>Foil</td>\n",
       "    </tr>\n",
       "    <tr>\n",
       "      <th>2555</th>\n",
       "      <td>2021-05-29</td>\n",
       "      <td>400.00</td>\n",
       "      <td>Prophecy</td>\n",
       "      <td>Foil</td>\n",
       "    </tr>\n",
       "    <tr>\n",
       "      <th>2556</th>\n",
       "      <td>2021-05-30</td>\n",
       "      <td>400.00</td>\n",
       "      <td>Prophecy</td>\n",
       "      <td>Foil</td>\n",
       "    </tr>\n",
       "  </tbody>\n",
       "</table>\n",
       "<p>2557 rows × 4 columns</p>\n",
       "</div>"
      ],
      "text/plain": [
       "           date   price expansion  foil\n",
       "0    2014-03-25   20.66  Prophecy  Foil\n",
       "1    2014-03-26   20.64  Prophecy  Foil\n",
       "2    2014-03-27   20.64  Prophecy  Foil\n",
       "3    2014-03-28   20.64  Prophecy  Foil\n",
       "4    2014-03-29   20.64  Prophecy  Foil\n",
       "...         ...     ...       ...   ...\n",
       "2552 2021-05-26  299.99  Prophecy  Foil\n",
       "2553 2021-05-27  350.00  Prophecy  Foil\n",
       "2554 2021-05-28  400.00  Prophecy  Foil\n",
       "2555 2021-05-29  400.00  Prophecy  Foil\n",
       "2556 2021-05-30  400.00  Prophecy  Foil\n",
       "\n",
       "[2557 rows x 4 columns]"
      ]
     },
     "execution_count": 34,
     "metadata": {},
     "output_type": "execute_result"
    }
   ],
   "source": [
    "rhystic_study = pricify('Rhystic Study', 'Prophecy', 'Foil')\n",
    "rhystic_study"
   ]
  },
  {
   "cell_type": "code",
   "execution_count": 36,
   "metadata": {},
   "outputs": [
    {
     "data": {
      "text/plain": [
       "<AxesSubplot:xlabel='date'>"
      ]
     },
     "execution_count": 36,
     "metadata": {},
     "output_type": "execute_result"
    },
    {
     "data": {
      "image/png": "[encoded data removed]",
      "text/plain": [
       "<Figure size 432x288 with 1 Axes>"
      ]
     },
     "metadata": {
      "needs_background": "light"
     },
     "output_type": "display_data"
    }
   ],
   "source": [
    "rhystic_study.plot('date', 'price')"
   ]
  },
  {
   "cell_type": "code",
   "execution_count": 43,
   "metadata": {},
   "outputs": [],
   "source": [
    "from bokeh.plotting import figure, show\n",
    "from bokeh.models.tools import HoverTool\n",
    "\n",
    "x = rhystic_study.date\n",
    "y = rhystic_study.price\n",
    "\n",
    "# create a new plot with a title and axis labels\n",
    "p = figure(title=\"Rhystic Study Price\", x_axis_label=\"Date\", y_axis_label=\"Price\")\n",
    "\n",
    "# add a line renderer with legend and line thickness\n",
    "p.line(x, y, legend_label=\"Price.\", line_width=2)\n",
    "\n",
    "p.add_tools(HoverTool(\n",
    "    tooltips=[('(date, price)', '(@x{%F}, @y)')],\n",
    "    formatters={'@x': 'datetime'}))\n",
    "\n",
    "# show the results\n",
    "show(p)\n"
   ]
  },
  {
   "cell_type": "code",
   "execution_count": null,
   "metadata": {},
   "outputs": [],
   "source": [
    "HoverTool(tooltips=[('date', '@DateTime{%F}')],\n",
    "          formatters={'@DateTime': 'datetime'})"
   ]
  }
 ],
 "metadata": {
  "kernelspec": {
   "display_name": "Python 3",
   "language": "python",
   "name": "python3"
  },
  "language_info": {
   "codemirror_mode": {
    "name": "ipython",
    "version": 3
   },
   "file_extension": ".py",
   "mimetype": "text/x-python",
   "name": "python",
   "nbconvert_exporter": "python",
   "pygments_lexer": "ipython3",
   "version": "3.8.0"
  }
 },
 "nbformat": 4,
 "nbformat_minor": 2
}
